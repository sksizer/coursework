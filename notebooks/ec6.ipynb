{
 "cells": [
  {
   "cell_type": "markdown",
   "id": "7b8ed5d1",
   "metadata": {},
   "source": [
    "# Extra Credit 6\n",
    "- DAT 301 2024 Spring\n",
    "- Kelly Sizer\n"
   ]
  },
  {
   "cell_type": "markdown",
   "id": "cba3c9e5",
   "metadata": {},
   "source": [
    "### 1. Implement the following vector subtraction in numpy: u-v\n",
    "\n",
    "import numpy as np\n",
    "u = np.array([1, 0])\n",
    "v = np.array([0, 1])"
   ]
  },
  {
   "cell_type": "code",
   "execution_count": 2,
   "id": "initial_id",
   "metadata": {
    "ExecuteTime": {
     "end_time": "2024-04-16T18:44:25.545175Z",
     "start_time": "2024-04-16T18:44:25.459804Z"
    },
    "collapsed": true,
    "jupyter": {
     "outputs_hidden": true
    }
   },
   "outputs": [],
   "source": [
    "import numpy as np\n",
    "u = np.array([1,0])\n",
    "v = np.array([0,1])\n",
    "\n"
   ]
  },
  {
   "cell_type": "markdown",
   "id": "24e160a8c087dd66",
   "metadata": {},
   "source": [
    "### 2. Multiply the numpy array z with -2:\n",
    "\n",
    "z = np.array ([2, 4])"
   ]
  },
  {
   "cell_type": "code",
   "execution_count": 3,
   "id": "7dedc534",
   "metadata": {
    "ExecuteTime": {
     "end_time": "2024-04-16T18:44:25.550816Z",
     "start_time": "2024-04-16T18:44:25.547649Z"
    }
   },
   "outputs": [
    {
     "name": "stdout",
     "output_type": "stream",
     "text": [
      "[-4 -8]\n"
     ]
    }
   ],
   "source": [
    "z = np.array([2,4])\n",
    "z = z * -2\n",
    "print(z)"
   ]
  },
  {
   "cell_type": "markdown",
   "id": "1f6ce2b2",
   "metadata": {},
   "source": [
    "### 3. Consider the list [1, 2, 3, 4, 5] and [1, 0, 1, 0, 1]. Cast both lists to a numpy array then multiply them together:\n",
    "\n",
    "a = np.array([1, 2, 3, 4, 5]) b = np.array([1, 0, 1, 0, 1])\n"
   ]
  },
  {
   "cell_type": "code",
   "execution_count": 4,
   "id": "d2d093f7fff3439b",
   "metadata": {
    "ExecuteTime": {
     "end_time": "2024-04-16T18:44:25.557183Z",
     "start_time": "2024-04-16T18:44:25.552523Z"
    }
   },
   "outputs": [
    {
     "name": "stdout",
     "output_type": "stream",
     "text": [
      "[1 0 3 0 5]\n"
     ]
    }
   ],
   "source": [
    "a = np.array([1, 2, 3, 4, 5])\n",
    "b = np.array([1, 0, 1, 0, 1])\n",
    "r = a * b\n",
    "print(r)\n",
    "        "
   ]
  },
  {
   "cell_type": "code",
   "execution_count": null,
   "id": "1ec92b181d462845",
   "metadata": {
    "ExecuteTime": {
     "end_time": "2024-04-16T18:44:25.563574Z",
     "start_time": "2024-04-16T18:44:25.560870Z"
    }
   },
   "outputs": [],
   "source": []
  },
  {
   "cell_type": "markdown",
   "id": "c8fd5160",
   "metadata": {},
   "source": [
    "### 4. Convert the list [1, 2, 3] and [8, 9, 10] to numpy arrays arr1 and arr2. Then perform Addition , Subtraction , Multiplication , Division and Dot Operation on the arr1 and arr2.\n",
    "\n",
    "arr1 = np.array([1, 2, 3]) arr2 = np.array([8, 9, 10])"
   ]
  },
  {
   "cell_type": "code",
   "execution_count": 5,
   "id": "fcf4d31fae6654be",
   "metadata": {
    "ExecuteTime": {
     "end_time": "2024-04-16T18:44:25.570804Z",
     "start_time": "2024-04-16T18:44:25.565923Z"
    }
   },
   "outputs": [
    {
     "name": "stdout",
     "output_type": "stream",
     "text": [
      "[ 9 11 13]\n",
      "[-7 -7 -7]\n",
      "[ 8 18 30]\n",
      "[0.125      0.22222222 0.3       ]\n",
      "56\n"
     ]
    }
   ],
   "source": [
    "a = [1,2,3]\n",
    "b = [8,9,10]\n",
    "arr1 = np.array(a)\n",
    "arr2 = np.array(b)\n",
    "\n",
    "addition = arr1 + arr2\n",
    "subtraction = arr1 - arr2\n",
    "multiplication = arr1 * arr2\n",
    "division = arr1 / arr2\n",
    "dot_product = np.dot(arr1, arr2)\n",
    "print(addition)\n",
    "print(subtraction)\n",
    "print(multiplication)\n",
    "print(division)\n",
    "print(dot_product)"
   ]
  },
  {
   "cell_type": "markdown",
   "id": "f07bbb23",
   "metadata": {},
   "source": [
    "### 5. Convert the list [1, 2, 3, 4, 5] and [6, 7, 8, 9, 10] to numpy arrays arr1 and arr2. Then find the even and odd numbers from arr1 and arr2."
   ]
  },
  {
   "cell_type": "code",
   "execution_count": null,
   "id": "e40deba1ced4387d",
   "metadata": {
    "ExecuteTime": {
     "end_time": "2024-04-16T18:45:20.597068Z",
     "start_time": "2024-04-16T18:44:37.467542Z"
    }
   },
   "outputs": [],
   "source": []
  },
  {
   "cell_type": "code",
   "execution_count": 6,
   "id": "91e4b77c",
   "metadata": {},
   "outputs": [
    {
     "name": "stdout",
     "output_type": "stream",
     "text": [
      "Arr1:\n",
      "even -\n",
      "[2, 4]\n",
      "odd -\n",
      "[1, 3, 5]\n",
      "Arr2:\n",
      "even -\n",
      "[2, 4, 6]\n",
      "odd -\n",
      "[3, 5]\n"
     ]
    }
   ],
   "source": [
    "arr1 = np.array([1,2,3,4,5])\n",
    "arr2 = np.array([2,3,4,5,6])\n",
    "\n",
    "print('Arr1:')\n",
    "print('even -')\n",
    "print([x for x in arr1 if x % 2 == 0])\n",
    "print('odd -')\n",
    "print([x for x in arr1 if (x - 1) % 2 == 0])\n",
    "\n",
    "print('Arr2:')\n",
    "print('even -')\n",
    "print([x for x in arr2 if x % 2 == 0])\n",
    "print('odd -')\n",
    "print([x for x in arr2 if (x - 1) % 2 == 0])"
   ]
  },
  {
   "cell_type": "markdown",
   "id": "ff90a26e",
   "metadata": {},
   "source": [
    "### 6. Consider the following list a, convert it to Numpy Array, A.\n",
    "\n",
    "a = [[1, 2, 3, 4], [5, 6, 7, 8], [9, 10, 11, 12]]"
   ]
  },
  {
   "cell_type": "code",
   "execution_count": 7,
   "id": "4a33a0f7",
   "metadata": {},
   "outputs": [
    {
     "name": "stdout",
     "output_type": "stream",
     "text": [
      "[[ 1  2  3  4]\n",
      " [ 5  6  7  8]\n",
      " [ 9 10 11 12]]\n"
     ]
    }
   ],
   "source": [
    "a = [[1, 2, 3, 4], [5, 6, 7, 8], [9, 10, 11, 12]]\n",
    "\n",
    "a = np.array(a)\n",
    "print(a)"
   ]
  },
  {
   "cell_type": "markdown",
   "id": "b7dad2c5",
   "metadata": {},
   "source": [
    "### 7. Calculate the numpy array size."
   ]
  },
  {
   "cell_type": "markdown",
   "id": "f4397c56",
   "metadata": {},
   "source": [
    "\n",
    "\n",
    "\n"
   ]
  },
  {
   "cell_type": "markdown",
   "id": "b5336db6",
   "metadata": {},
   "source": []
  },
  {
   "cell_type": "code",
   "execution_count": 8,
   "id": "645627f4",
   "metadata": {},
   "outputs": [
    {
     "name": "stdout",
     "output_type": "stream",
     "text": [
      "12\n"
     ]
    }
   ],
   "source": [
    "\n",
    "\n",
    "print(np.size(a))"
   ]
  },
  {
   "cell_type": "markdown",
   "id": "91e9b24c",
   "metadata": {},
   "source": [
    "### 8. Access the element on the first row and first and second columns.\n",
    "\n"
   ]
  },
  {
   "cell_type": "code",
   "execution_count": 9,
   "id": "ea4384a3",
   "metadata": {},
   "outputs": [
    {
     "name": "stdout",
     "output_type": "stream",
     "text": [
      "[1 2]\n"
     ]
    }
   ],
   "source": [
    "print(a[0, 0:2])"
   ]
  },
  {
   "cell_type": "markdown",
   "id": "d0b75ccf",
   "metadata": {},
   "source": [
    "### 9. Perform matrix multiplication with the numpy arrays A and B.\n",
    "A = [[1, 2, 3, 4], [5, 6, 7, 8], [9, 10, 11, 12]] B = np.array ([[0, 1], [1, 0], [1, 1], [-1, 0]])\n"
   ]
  },
  {
   "cell_type": "code",
   "execution_count": null,
   "id": "e4bac942",
   "metadata": {},
   "outputs": [],
   "source": []
  },
  {
   "cell_type": "code",
   "execution_count": 10,
   "id": "242e39d7",
   "metadata": {},
   "outputs": [
    {
     "name": "stdout",
     "output_type": "stream",
     "text": [
      "[[ 1  2  3  4]\n",
      " [ 5  6  7  8]\n",
      " [ 9 10 11 12]]\n",
      "[[ 0  1]\n",
      " [ 1  0]\n",
      " [ 1  1]\n",
      " [-1  0]]\n",
      "Multiplication Result\n",
      "[[ 1  4]\n",
      " [ 5 12]\n",
      " [ 9 20]]\n"
     ]
    }
   ],
   "source": [
    "A = [[1, 2, 3, 4], [5, 6, 7, 8], [9, 10, 11, 12]]\n",
    "B = np.array([[0, 1], [1, 0], [1, 1], [-1, 0]])\n",
    "\n",
    "A = np.array(A)\n",
    "\n",
    "print(A)\n",
    "print(B)\n",
    "\n",
    "C = np.matmul(A, B)\n",
    "print('Multiplication Result')\n",
    "print(C)"
   ]
  }
 ],
 "metadata": {
  "kernelspec": {
   "display_name": "Python 3 (ipykernel)",
   "language": "python",
   "name": "python3"
  },
  "language_info": {
   "codemirror_mode": {
    "name": "ipython",
    "version": 3
   },
   "file_extension": ".py",
   "mimetype": "text/x-python",
   "name": "python",
   "nbconvert_exporter": "python",
   "pygments_lexer": "ipython3",
   "version": "3.11.3"
  }
 },
 "nbformat": 4,
 "nbformat_minor": 5
}
